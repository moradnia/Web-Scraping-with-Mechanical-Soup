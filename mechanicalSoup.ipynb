{
 "cells": [
  {
   "cell_type": "markdown",
   "metadata": {},
   "source": [
    "# Navigate to Google Images"
   ]
  },
  {
   "cell_type": "code",
   "execution_count": 1,
   "metadata": {},
   "outputs": [
    {
     "name": "stdout",
     "output_type": "stream",
     "text": [
      "https://www.google.com/imghp?hl=en\n"
     ]
    }
   ],
   "source": [
    "import mechanicalsoup\n",
    "\n",
    "browser = mechanicalsoup.StatefulBrowser()\n",
    "url = \"https://www.google.com/imghp?hl=en\"\n",
    "\n",
    "browser.open(url)\n",
    "print(browser.get_url())"
   ]
  },
  {
   "cell_type": "markdown",
   "metadata": {},
   "source": [
    "# Type a search term and click \"search\""
   ]
  },
  {
   "cell_type": "code",
   "execution_count": 2,
   "metadata": {},
   "outputs": [
    {
     "name": "stdout",
     "output_type": "stream",
     "text": [
      "<input name=\"tbm\" type=\"hidden\" value=\"isch\"/>\n",
      "<input name=\"ie\" type=\"hidden\" value=\"ISO-8859-1\"/>\n",
      "<input name=\"hl\" type=\"hidden\" value=\"en-CA\"/>\n",
      "<input name=\"source\" type=\"hidden\" value=\"hp\"/>\n",
      "<input class=\"lst\" maxlength=\"2048\" name=\"q\" size=\"40\" title=\"Search Images\" value=\"\"/>\n",
      "<input class=\"lsb\" name=\"btnG\" type=\"submit\" value=\"Search Images\"/>\n",
      "<input id=\"gbv\" name=\"gbv\" type=\"hidden\" value=\"1\"/>\n",
      "new url: https://www.google.com/search?tbm=isch&ie=ISO-8859-1&hl=en-CA&source=hp&q=dog&btnG=Search+Images&gbv=1\n",
      "my response:\n",
      " <!DOCTYPE html PUBLIC \"-//WAPFORUM//DTD XHTML Mobile 1.0//EN\" \"http://www.wapforum.org/DTD/xhtml-mobile10.dtd\"><html xmlns=\"http://www.w3.org/1999/xhtml\" lang=\"en-CA\"><head><meta content=\"application/xhtml+xml; charset=UTF-8\" http-equiv=\"Content-Type\"/><meta content=\"no-cache\" name=\"Cache-Control\"/><title>dog - Google Search</title><style>a{text-decoration:none;color:inherit}a:hover{text-decoration:underline}a img{border:0}body{font-family:Roboto,Helvetica,Arial,sans-serif;padding:8px;margin:0 a\n"
     ]
    }
   ],
   "source": [
    "#get HTML\n",
    "browser.get_current_page()\n",
    "\n",
    "#target the search input\n",
    "browser.select_form()\n",
    "browser.get_current_form().print_summary()\n",
    "\n",
    "#search for a term\n",
    "search_term = 'dog'\n",
    "browser[\"q\"] = search_term \n",
    "\n",
    "#submit/\"click\" search\n",
    "browser.launch_browser()\n",
    "response = browser.submit_selected()\n",
    "\n",
    "print('new url:', browser.get_url())\n",
    "print('my response:\\n', response.text[:500])"
   ]
  },
  {
   "cell_type": "markdown",
   "metadata": {},
   "source": [
    "# Navigate to the new page and target all the images"
   ]
  },
  {
   "cell_type": "code",
   "execution_count": 3,
   "metadata": {},
   "outputs": [
    {
     "data": {
      "text/plain": [
       "['https://encrypted-tbn0.gstatic.com/images?q=tbn:ANd9GcRwvkI92uWiYEtSgDKSsgfU1oX_ebquymSb0BrLvHbQGlQUgFPX93T4YjPeEvTc&s',\n",
       " 'https://encrypted-tbn0.gstatic.com/images?q=tbn:ANd9GcRgbT9Mw3wa4hQ09QHem-7zcmNEcV0ZGZRH-b1-JY0VbXWcHB6NBhgqnb4-9R4u&s',\n",
       " 'https://encrypted-tbn0.gstatic.com/images?q=tbn:ANd9GcS3ijPnz4-pox8LGradP8-V7m2EekW3LR2iJNYSPE_1nfwdQheEH3Zu-KA5cfyL&s',\n",
       " 'https://encrypted-tbn0.gstatic.com/images?q=tbn:ANd9GcTtTeEQHxgg5IUD_wH_Bh720bhD2ezp5RmcAr0LiYekaNmdQX8lYVfWosuPPV0&s',\n",
       " 'https://encrypted-tbn0.gstatic.com/images?q=tbn:ANd9GcRV5DtYn2H6v1oWz7Elipb2a3jzzOwVP3Pmg0jBykn3CaP_bRtOKTjWi8mFDG8&s',\n",
       " 'https://encrypted-tbn0.gstatic.com/images?q=tbn:ANd9GcSw6zBTvdg6PYGAnxPJpkHbbB4MLWn_hna6Gp03BYPA2K3M32JB3f0mMcxkEhcV&s',\n",
       " 'https://encrypted-tbn0.gstatic.com/images?q=tbn:ANd9GcRF_ThEC0Mk1bSYOreemMesnQxWaF9c_GapNdSwqP6aZr1F5YDbcK7mkp7xzSxO&s',\n",
       " 'https://encrypted-tbn0.gstatic.com/images?q=tbn:ANd9GcR19YdGH2PgFqQAqi6KyRBKk5y0-hD2AamgU9Vce0TLuFPzFMZ4ymhjGEOf9aE&s',\n",
       " 'https://encrypted-tbn0.gstatic.com/images?q=tbn:ANd9GcTGW0UHE2GnifL_2qPmzBfHRSX6GfH-nk2iVKz5OGxIwI4HHaX1SwHSae9yg36P&s',\n",
       " 'https://encrypted-tbn0.gstatic.com/images?q=tbn:ANd9GcQ3N6M-h5dzkVhmD9oaXh9zpOvoRs_xD29AEBtw02OXHWMbBj4BHZz8iZwzhXE&s',\n",
       " 'https://encrypted-tbn0.gstatic.com/images?q=tbn:ANd9GcSn_06yX83TiVyoOT7lrz0anzpITmC5ywfTLJbhfbf7GF_8LSQIegUzBHNpkz6o&s',\n",
       " 'https://encrypted-tbn0.gstatic.com/images?q=tbn:ANd9GcTKoFshEKSK9aG5v9uPcuj-Vk8JWVVwwK1V2DDRpx2nbeXt3DKVTXWEO7kuiCY&s',\n",
       " 'https://encrypted-tbn0.gstatic.com/images?q=tbn:ANd9GcTbsEAf6LXNUStT0bmrPZYoo5zbPprNd1UL5QcIS5MlkucUkM25S09FQ7CDgRs&s',\n",
       " 'https://encrypted-tbn0.gstatic.com/images?q=tbn:ANd9GcQx4hfmCif_GRh4Duh2IiYVo7aeqnGQjrkgeeygBMq8hryDsY5kFmvf5UUTCbQ&s',\n",
       " 'https://encrypted-tbn0.gstatic.com/images?q=tbn:ANd9GcTLwdB-fLV9SPhsoJJNfuy3MpYgqa1vqBie9NSAfZkAGqjYllst1OoGhVnk_lA&s',\n",
       " 'https://encrypted-tbn0.gstatic.com/images?q=tbn:ANd9GcR0g8c75dyqUP15uVwE0wkumX1JqOJox6ShL9glGnbgKllW_cpKrh5B7Uk39dt4&s']"
      ]
     },
     "execution_count": 3,
     "metadata": {},
     "output_type": "execute_result"
    }
   ],
   "source": [
    "#open new URL\n",
    "new_url = browser.get_url()\n",
    "browser.open(new_url)\n",
    "\n",
    "#get HTML\n",
    "page = browser.get_current_page()\n",
    "all_images = page.find_all('img')\n",
    "\n",
    "#target the source attribute\n",
    "image_source = []\n",
    "for image in all_images:\n",
    "    image = image.get('src')\n",
    "    image_source.append(image)\n",
    "    \n",
    "image_source[5:]"
   ]
  },
  {
   "cell_type": "markdown",
   "metadata": {},
   "source": [
    "# Fix broken/incomplete image links"
   ]
  },
  {
   "cell_type": "code",
   "execution_count": 4,
   "metadata": {},
   "outputs": [
    {
     "data": {
      "text/plain": [
       "['https://encrypted-tbn0.gstatic.com/images?q=tbn:ANd9GcRgbT9Mw3wa4hQ09QHem-7zcmNEcV0ZGZRH-b1-JY0VbXWcHB6NBhgqnb4-9R4u&s',\n",
       " 'https://encrypted-tbn0.gstatic.com/images?q=tbn:ANd9GcS3ijPnz4-pox8LGradP8-V7m2EekW3LR2iJNYSPE_1nfwdQheEH3Zu-KA5cfyL&s',\n",
       " 'https://encrypted-tbn0.gstatic.com/images?q=tbn:ANd9GcTtTeEQHxgg5IUD_wH_Bh720bhD2ezp5RmcAr0LiYekaNmdQX8lYVfWosuPPV0&s',\n",
       " 'https://encrypted-tbn0.gstatic.com/images?q=tbn:ANd9GcRV5DtYn2H6v1oWz7Elipb2a3jzzOwVP3Pmg0jBykn3CaP_bRtOKTjWi8mFDG8&s',\n",
       " 'https://encrypted-tbn0.gstatic.com/images?q=tbn:ANd9GcSw6zBTvdg6PYGAnxPJpkHbbB4MLWn_hna6Gp03BYPA2K3M32JB3f0mMcxkEhcV&s',\n",
       " 'https://encrypted-tbn0.gstatic.com/images?q=tbn:ANd9GcRF_ThEC0Mk1bSYOreemMesnQxWaF9c_GapNdSwqP6aZr1F5YDbcK7mkp7xzSxO&s',\n",
       " 'https://encrypted-tbn0.gstatic.com/images?q=tbn:ANd9GcR19YdGH2PgFqQAqi6KyRBKk5y0-hD2AamgU9Vce0TLuFPzFMZ4ymhjGEOf9aE&s',\n",
       " 'https://encrypted-tbn0.gstatic.com/images?q=tbn:ANd9GcTGW0UHE2GnifL_2qPmzBfHRSX6GfH-nk2iVKz5OGxIwI4HHaX1SwHSae9yg36P&s',\n",
       " 'https://encrypted-tbn0.gstatic.com/images?q=tbn:ANd9GcQ3N6M-h5dzkVhmD9oaXh9zpOvoRs_xD29AEBtw02OXHWMbBj4BHZz8iZwzhXE&s',\n",
       " 'https://encrypted-tbn0.gstatic.com/images?q=tbn:ANd9GcSn_06yX83TiVyoOT7lrz0anzpITmC5ywfTLJbhfbf7GF_8LSQIegUzBHNpkz6o&s',\n",
       " 'https://encrypted-tbn0.gstatic.com/images?q=tbn:ANd9GcTKoFshEKSK9aG5v9uPcuj-Vk8JWVVwwK1V2DDRpx2nbeXt3DKVTXWEO7kuiCY&s',\n",
       " 'https://encrypted-tbn0.gstatic.com/images?q=tbn:ANd9GcTbsEAf6LXNUStT0bmrPZYoo5zbPprNd1UL5QcIS5MlkucUkM25S09FQ7CDgRs&s',\n",
       " 'https://encrypted-tbn0.gstatic.com/images?q=tbn:ANd9GcQx4hfmCif_GRh4Duh2IiYVo7aeqnGQjrkgeeygBMq8hryDsY5kFmvf5UUTCbQ&s',\n",
       " 'https://encrypted-tbn0.gstatic.com/images?q=tbn:ANd9GcTLwdB-fLV9SPhsoJJNfuy3MpYgqa1vqBie9NSAfZkAGqjYllst1OoGhVnk_lA&s',\n",
       " 'https://encrypted-tbn0.gstatic.com/images?q=tbn:ANd9GcR0g8c75dyqUP15uVwE0wkumX1JqOJox6ShL9glGnbgKllW_cpKrh5B7Uk39dt4&s']"
      ]
     },
     "execution_count": 4,
     "metadata": {},
     "output_type": "execute_result"
    }
   ],
   "source": [
    "image_source = [image for image in image_source if image.startswith('https')]\n",
    "image_source[5:]"
   ]
  },
  {
   "cell_type": "markdown",
   "metadata": {},
   "source": [
    "# Create a new local directory on our computer"
   ]
  },
  {
   "cell_type": "code",
   "execution_count": 5,
   "metadata": {},
   "outputs": [
    {
     "data": {
      "text/plain": [
       "'C:\\\\Users\\\\Mariya\\\\Python\\\\Lessons\\\\MachanicalSoup\\\\dogs'"
      ]
     },
     "execution_count": 5,
     "metadata": {},
     "output_type": "execute_result"
    }
   ],
   "source": [
    "import os\n",
    "import wget\n",
    "\n",
    "path = os.getcwd()\n",
    "path = os.path.join(path, search_term + \"s\")\n",
    "\n",
    "#create the directory\n",
    "os.mkdir(path)\n",
    "\n",
    "path"
   ]
  },
  {
   "cell_type": "markdown",
   "metadata": {},
   "source": [
    "# Download and save all the images"
   ]
  },
  {
   "cell_type": "code",
   "execution_count": 6,
   "metadata": {},
   "outputs": [
    {
     "name": "stdout",
     "output_type": "stream",
     "text": [
      "100% [............................................................] 3057 / 3057"
     ]
    }
   ],
   "source": [
    "#download images\n",
    "counter = 0\n",
    "for image in image_source:\n",
    "    save_as = os.path.join(path, search_term + str(counter) + '.jpg')\n",
    "    wget.download(image, save_as)\n",
    "    counter += 1"
   ]
  },
  {
   "cell_type": "code",
   "execution_count": null,
   "metadata": {},
   "outputs": [],
   "source": []
  }
 ],
 "metadata": {
  "kernelspec": {
   "display_name": "Python 3",
   "language": "python",
   "name": "python3"
  },
  "language_info": {
   "codemirror_mode": {
    "name": "ipython",
    "version": 3
   },
   "file_extension": ".py",
   "mimetype": "text/x-python",
   "name": "python",
   "nbconvert_exporter": "python",
   "pygments_lexer": "ipython3",
   "version": "3.8.1"
  }
 },
 "nbformat": 4,
 "nbformat_minor": 4
}
